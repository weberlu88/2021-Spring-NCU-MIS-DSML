{
 "cells": [
  {
   "cell_type": "markdown",
   "metadata": {},
   "source": [
    "### text-cnn + google's Word2Vec pre-trained model\n",
    "paper:\n",
    "- [Convolutional Neural Networks for Sentence Classification | Kim Yoon](https://arxiv.org/abs/1408.5882)\n",
    "\n",
    "code reference (pre-process):\n",
    "- https://www.kaggle.com/eliotbarr/text-classification-using-neural-networks\n",
    "- https://github.com/m2dsupsdlclass/lectures-labs/blob/master/labs/06_deep_nlp/NLP_word_vectors_classification_rendered.ipynb"
   ]
  },
  {
   "cell_type": "code",
   "execution_count": 1,
   "metadata": {},
   "outputs": [
    {
     "name": "stderr",
     "output_type": "stream",
     "text": [
      "Using TensorFlow backend.\n"
     ]
    }
   ],
   "source": [
    "import numpy as np\n",
    "import pandas as pd\n",
    "import matplotlib.pyplot as plt\n",
    "from pprint import pprint\n",
    "from keras.preprocessing.text import Tokenizer\n",
    "%matplotlib inline"
   ]
  },
  {
   "cell_type": "code",
   "execution_count": 2,
   "metadata": {},
   "outputs": [
    {
     "data": {
      "text/html": [
       "<div>\n",
       "<style scoped>\n",
       "    .dataframe tbody tr th:only-of-type {\n",
       "        vertical-align: middle;\n",
       "    }\n",
       "\n",
       "    .dataframe tbody tr th {\n",
       "        vertical-align: top;\n",
       "    }\n",
       "\n",
       "    .dataframe thead th {\n",
       "        text-align: right;\n",
       "    }\n",
       "</style>\n",
       "<table border=\"1\" class=\"dataframe\">\n",
       "  <thead>\n",
       "    <tr style=\"text-align: right;\">\n",
       "      <th></th>\n",
       "      <th>row_id</th>\n",
       "      <th>TEXT</th>\n",
       "      <th>LABEL</th>\n",
       "    </tr>\n",
       "  </thead>\n",
       "  <tbody>\n",
       "    <tr>\n",
       "      <th>0</th>\n",
       "      <td>0</td>\n",
       "      <td>good to know if you can t find these elsewhere .</td>\n",
       "      <td>1</td>\n",
       "    </tr>\n",
       "    <tr>\n",
       "      <th>1</th>\n",
       "      <td>1</td>\n",
       "      <td>love it !  the grill plates come out and pop i...</td>\n",
       "      <td>1</td>\n",
       "    </tr>\n",
       "    <tr>\n",
       "      <th>2</th>\n",
       "      <td>2</td>\n",
       "      <td>i m convinced this was a poorly executed refur...</td>\n",
       "      <td>0</td>\n",
       "    </tr>\n",
       "    <tr>\n",
       "      <th>3</th>\n",
       "      <td>3</td>\n",
       "      <td>i would never have complained about that if it...</td>\n",
       "      <td>0</td>\n",
       "    </tr>\n",
       "    <tr>\n",
       "      <th>4</th>\n",
       "      <td>4</td>\n",
       "      <td>the photo shows the same whole ,  large candie...</td>\n",
       "      <td>0</td>\n",
       "    </tr>\n",
       "    <tr>\n",
       "      <th>...</th>\n",
       "      <td>...</td>\n",
       "      <td>...</td>\n",
       "      <td>...</td>\n",
       "    </tr>\n",
       "    <tr>\n",
       "      <th>10995</th>\n",
       "      <td>10995</td>\n",
       "      <td>i didn t quite get it the first time .</td>\n",
       "      <td>1</td>\n",
       "    </tr>\n",
       "    <tr>\n",
       "      <th>10996</th>\n",
       "      <td>10996</td>\n",
       "      <td>i ve tried installing with and without the oem...</td>\n",
       "      <td>0</td>\n",
       "    </tr>\n",
       "    <tr>\n",
       "      <th>10997</th>\n",
       "      <td>10997</td>\n",
       "      <td>i was parked at a truck stop in the cincinnati...</td>\n",
       "      <td>0</td>\n",
       "    </tr>\n",
       "    <tr>\n",
       "      <th>10998</th>\n",
       "      <td>10998</td>\n",
       "      <td>i recently bought this case after seeing some ...</td>\n",
       "      <td>1</td>\n",
       "    </tr>\n",
       "    <tr>\n",
       "      <th>10999</th>\n",
       "      <td>10999</td>\n",
       "      <td>the keyboard types only % of the time and the ...</td>\n",
       "      <td>0</td>\n",
       "    </tr>\n",
       "  </tbody>\n",
       "</table>\n",
       "<p>11000 rows × 3 columns</p>\n",
       "</div>"
      ],
      "text/plain": [
       "       row_id                                               TEXT  LABEL\n",
       "0           0   good to know if you can t find these elsewhere .      1\n",
       "1           1  love it !  the grill plates come out and pop i...      1\n",
       "2           2  i m convinced this was a poorly executed refur...      0\n",
       "3           3  i would never have complained about that if it...      0\n",
       "4           4  the photo shows the same whole ,  large candie...      0\n",
       "...       ...                                                ...    ...\n",
       "10995   10995             i didn t quite get it the first time .      1\n",
       "10996   10996  i ve tried installing with and without the oem...      0\n",
       "10997   10997  i was parked at a truck stop in the cincinnati...      0\n",
       "10998   10998  i recently bought this case after seeing some ...      1\n",
       "10999   10999  the keyboard types only % of the time and the ...      0\n",
       "\n",
       "[11000 rows x 3 columns]"
      ]
     },
     "execution_count": 2,
     "metadata": {},
     "output_type": "execute_result"
    }
   ],
   "source": [
    "df_train = pd.read_csv('data/train.csv')\n",
    "df_test = pd.read_csv('data/test_no_answer.csv')\n",
    "df_train"
   ]
  },
  {
   "cell_type": "markdown",
   "metadata": {},
   "source": [
    "### Preprocessing text for the (supervised) Text-CNN model\n",
    "The following cells uses Keras to preprocess text:\n",
    "\n",
    "- using a tokenizer. You may use different tokenizers (from scikit-learn, NLTK, custom Python function etc.). This converts the texts into sequences of indices representing the 20000 most frequent words\n",
    "- sequences have different lengths, so we pad them (add 0s at the end until the sequence is of length 1000)\n",
    "- we convert the output classes as 1-hot encodings"
   ]
  },
  {
   "cell_type": "code",
   "execution_count": 3,
   "metadata": {},
   "outputs": [],
   "source": [
    "# Prepossessing parameters\n",
    "MAX_SEQUENCE_LENGTH = 50\n",
    "MAX_NB_WORDS = 10000 # numbers of word in corpus"
   ]
  },
  {
   "cell_type": "code",
   "execution_count": 4,
   "metadata": {},
   "outputs": [
    {
     "name": "stdout",
     "output_type": "stream",
     "text": [
      "Found 9872 unique tokens.\n"
     ]
    }
   ],
   "source": [
    "# get the raw text data\n",
    "texts_train = df_train['TEXT'].astype(str)\n",
    "texts_test = df_test['TEXT'].astype(str)\n",
    "\n",
    "# finally, vectorize the text samples into a 2D integer tensor\n",
    "tokenizer = Tokenizer(num_words=MAX_NB_WORDS, char_level=False)\n",
    "tokenizer.fit_on_texts(texts_train)\n",
    "sequences = tokenizer.texts_to_sequences(texts_train)\n",
    "sequences_test = tokenizer.texts_to_sequences(texts_test)\n",
    "\n",
    "word_index = tokenizer.word_index\n",
    "print('Found %s unique tokens.' % len(word_index))"
   ]
  },
  {
   "cell_type": "code",
   "execution_count": 5,
   "metadata": {},
   "outputs": [
    {
     "name": "stdout",
     "output_type": "stream",
     "text": [
      "[46, 6, 170, 37, 17, 33, 19, 195, 35, 856]\n",
      "'good to know if you can t find these elsewhere .'\n"
     ]
    }
   ],
   "source": [
    "pprint(sequences[0])\n",
    "pprint(df_train['TEXT'].loc[0])"
   ]
  },
  {
   "cell_type": "code",
   "execution_count": 6,
   "metadata": {},
   "outputs": [
    {
     "data": {
      "text/plain": [
       "(dict, 9872)"
      ]
     },
     "execution_count": 6,
     "metadata": {},
     "output_type": "execute_result"
    }
   ],
   "source": [
    "type(tokenizer.word_index), len(tokenizer.word_index)"
   ]
  },
  {
   "cell_type": "markdown",
   "metadata": {},
   "source": [
    "The tokenizer object stores a mapping (vocabulary) from word strings to token ids that can be inverted to reconstruct the original message (without formatting):\n"
   ]
  },
  {
   "cell_type": "code",
   "execution_count": 7,
   "metadata": {},
   "outputs": [],
   "source": [
    "index_to_word = dict((i, w) for w, i in tokenizer.word_index.items())"
   ]
  },
  {
   "cell_type": "code",
   "execution_count": 8,
   "metadata": {},
   "outputs": [
    {
     "data": {
      "text/plain": [
       "'good to know if you can t find these elsewhere'"
      ]
     },
     "execution_count": 8,
     "metadata": {},
     "output_type": "execute_result"
    }
   ],
   "source": [
    "# try to invert sequences[0] origin sentence\n",
    "\" \".join([index_to_word[i] for i in sequences[0]])"
   ]
  },
  {
   "cell_type": "markdown",
   "metadata": {},
   "source": [
    "#### Let's have a closer look at the tokenized sequences:"
   ]
  },
  {
   "cell_type": "code",
   "execution_count": 9,
   "metadata": {},
   "outputs": [
    {
     "name": "stdout",
     "output_type": "stream",
     "text": [
      "average length: 13.5\n",
      "max length: 25\n"
     ]
    },
    {
     "data": {
      "text/plain": [
       "(array([  10.,  767.,  977., 1017., 1018., 1009.,  987.,  917.,  884.,\n",
       "           0.,  837.,  762.,  728.,  708.,  277.,   78.,   18.,    4.,\n",
       "           0.,    2.]),\n",
       " array([ 7. ,  7.9,  8.8,  9.7, 10.6, 11.5, 12.4, 13.3, 14.2, 15.1, 16. ,\n",
       "        16.9, 17.8, 18.7, 19.6, 20.5, 21.4, 22.3, 23.2, 24.1, 25. ]),\n",
       " <BarContainer object of 20 artists>)"
      ]
     },
     "execution_count": 9,
     "metadata": {},
     "output_type": "execute_result"
    },
    {
     "data": {
      "image/png": "[encoded data removed]",
      "text/plain": [
       "<Figure size 360x216 with 1 Axes>"
      ]
     },
     "metadata": {
      "needs_background": "light"
     },
     "output_type": "display_data"
    }
   ],
   "source": [
    "seq_lens = [len(s) for s in sequences]\n",
    "print(\"average length: %0.1f\" % np.mean(seq_lens))\n",
    "print(\"max length: %d\" % max(seq_lens))\n",
    "plt.figure(figsize=(5,3))\n",
    "plt.hist(seq_lens, bins=20)"
   ]
  },
  {
   "cell_type": "markdown",
   "metadata": {},
   "source": [
    "### Prepare train/test sequences"
   ]
  },
  {
   "cell_type": "code",
   "execution_count": 10,
   "metadata": {},
   "outputs": [
    {
     "name": "stdout",
     "output_type": "stream",
     "text": [
      "Shape of data tensor: (11000, 50)\n",
      "Shape of data test tensor: (2000, 50)\n"
     ]
    }
   ],
   "source": [
    "from keras.preprocessing.sequence import pad_sequences\n",
    "from keras.utils.np_utils import to_categorical\n",
    "\n",
    "# pad sequences with 0s\n",
    "x_train = pad_sequences(sequences, maxlen=MAX_SEQUENCE_LENGTH)\n",
    "x_test = pad_sequences(sequences_test, maxlen=MAX_SEQUENCE_LENGTH)\n",
    "print('Shape of data tensor:', x_train.shape)\n",
    "print('Shape of data test tensor:', x_test.shape)"
   ]
  },
  {
   "cell_type": "code",
   "execution_count": 11,
   "metadata": {},
   "outputs": [
    {
     "name": "stdout",
     "output_type": "stream",
     "text": [
      "Shape of label tensor: (11000, 2)\n",
      "Shape of label test tensor: (2000,)\n"
     ]
    }
   ],
   "source": [
    "y_train = to_categorical(np.asarray(df_train['LABEL'])) # has label as answer\n",
    "y_test = df_test['LABEL'] # no label\n",
    "print('Shape of label tensor:', y_train.shape)\n",
    "print('Shape of label test tensor:', y_test.shape)"
   ]
  },
  {
   "cell_type": "code",
   "execution_count": 12,
   "metadata": {},
   "outputs": [
    {
     "name": "stdout",
     "output_type": "stream",
     "text": [
      "Shape of x_train: (8800, 50)\n",
      "Shape of y_train: (8800, 2)\n",
      "Shape of x_val: (2200, 50)\n",
      "Shape of y_val: (2200, 2)\n"
     ]
    }
   ],
   "source": [
    "from sklearn.model_selection import train_test_split\n",
    "x_train, x_val, y_train, y_val = train_test_split(x_train, y_train, test_size=0.2, random_state=42)\n",
    "print('Shape of x_train:', x_train.shape)\n",
    "print('Shape of y_train:', y_train.shape)\n",
    "print('Shape of x_val:', x_val.shape)\n",
    "print('Shape of y_val:', y_val.shape)"
   ]
  },
  {
   "cell_type": "markdown",
   "metadata": {},
   "source": [
    "### Model 1 : A simple Text-CNN model in Keras\n",
    "- Build an embedding layer mapping each word to a vector representation\n",
    "- Compute the vector representation of all words in each sequence and average them\n",
    "- Add a dense layer to output 2 classes (+ softmax)"
   ]
  },
  {
   "cell_type": "code",
   "execution_count": 23,
   "metadata": {},
   "outputs": [],
   "source": [
    "# Model Hyperparameters\n",
    "EMBEDDING_DIM = 300\n",
    "N_CLASSES = 2\n",
    "filter_sizes = (3, 4, 5)\n",
    "num_filters = 100          # paper is 100\n",
    "dropout_prob = (0.5, 0.5)\n",
    "hidden_dims = 100          # paper is 100\n",
    "\n",
    "# Training parameters\n",
    "batch_size = 64 # paper is 50\n",
    "num_epochs = 25 # paper is 25"
   ]
  },
  {
   "cell_type": "markdown",
   "metadata": {},
   "source": [
    "#### Initialize embedding matrix as embedding layer's weight"
   ]
  },
  {
   "cell_type": "code",
   "execution_count": 17,
   "metadata": {},
   "outputs": [],
   "source": [
    "# records out-of-vocabulary words\n",
    "oov = {}"
   ]
  },
  {
   "cell_type": "code",
   "execution_count": 18,
   "metadata": {
    "scrolled": true
   },
   "outputs": [],
   "source": [
    "# import gensim.downloader\n",
    "# word_vectors = gensim.downloader.load('word2vec-google-news-300')\n",
    "from gensim.models.keyedvectors import KeyedVectors\n",
    "word_vectors = KeyedVectors.load_word2vec_format('D:/NLP/GoogleNews-vectors-negative300.bin', binary=True)\n",
    "\n",
    "word_index = tokenizer.word_index\n",
    "vocabulary_size = min(len(word_index)+1, MAX_NB_WORDS)\n",
    "embedding_matrix = np.zeros((vocabulary_size, EMBEDDING_DIM))\n",
    "for word, i in word_index.items():\n",
    "    if i >= MAX_NB_WORDS:\n",
    "        continue\n",
    "    try:\n",
    "        embedding_vector = word_vectors[word]\n",
    "        embedding_matrix[i] = embedding_vector\n",
    "    except KeyError:\n",
    "        if word in oov.keys():\n",
    "            embedding_matrix[i] = oov[word]\n",
    "        else:\n",
    "            embedding_matrix[i] = np.random.normal(0,np.sqrt(0.25),EMBEDDING_DIM) # random vector\n",
    "            oov[word] = embedding_matrix[i] # record oov\n",
    "\n",
    "del(word_vectors)\n",
    "\n",
    "# from keras.layers import Embedding\n",
    "# embedding_layer = Embedding(vocabulary_size,\n",
    "#                             EMBEDDING_DIM,\n",
    "#                             weights=[embedding_matrix],\n",
    "#                             trainable=True)"
   ]
  },
  {
   "cell_type": "code",
   "execution_count": 19,
   "metadata": {},
   "outputs": [
    {
     "name": "stdout",
     "output_type": "stream",
     "text": [
      "693\n"
     ]
    }
   ],
   "source": [
    "# pprint(oov.keys())\n",
    "pprint(len(oov))"
   ]
  },
  {
   "cell_type": "code",
   "execution_count": 17,
   "metadata": {},
   "outputs": [],
   "source": [
    "# f = open(\"oov.txt\", \"w\")\n",
    "# for key in oov:\n",
    "#     f.write(key+\"\\n\")\n",
    "# f.close()"
   ]
  },
  {
   "cell_type": "markdown",
   "metadata": {},
   "source": [
    "#### Model's framework"
   ]
  },
  {
   "cell_type": "code",
   "execution_count": 21,
   "metadata": {},
   "outputs": [],
   "source": [
    "from keras.layers import Dense, Input, Flatten, Dropout\n",
    "from keras.layers import GlobalAveragePooling1D, Embedding\n",
    "from keras.models import Model\n",
    "from keras.models import Sequential, Model\n",
    "from keras.layers import Dense, Dropout, Flatten, Input, MaxPooling1D, Convolution1D, Embedding\n",
    "from keras.layers.merge import Concatenate\n",
    "\n",
    "def textcnn():\n",
    "    # input: a sequence of MAX_SEQUENCE_LENGTH integers\n",
    "    inputs = Input(name='inputs', shape=(MAX_SEQUENCE_LENGTH,), dtype='int32')\n",
    "    # embedding layer\n",
    "    layer = Embedding(vocabulary_size, EMBEDDING_DIM, weights=[embedding_matrix], \n",
    "                      trainable=False, name=\"embedding\")(inputs)\n",
    "    layer = Dropout(dropout_prob[0])(layer)\n",
    "    # Convolutional block\n",
    "    conv_blocks = []\n",
    "    for sz in filter_sizes:\n",
    "        conv = Convolution1D(filters     = num_filters,\n",
    "                             kernel_size = sz,\n",
    "                             padding     = \"valid\",\n",
    "                             activation  = \"relu\",\n",
    "                             strides     = 1)(layer)\n",
    "        conv = MaxPooling1D(pool_size = 2)(conv)\n",
    "        conv = Flatten()(conv)\n",
    "        conv_blocks.append(conv)\n",
    "    z = Concatenate()(conv_blocks) if len(conv_blocks) > 1 else conv_blocks[0]\n",
    "    # Dropout & fully-connected\n",
    "    z = Dropout(dropout_prob[1])(z)\n",
    "    z = Dense(hidden_dims, activation=\"relu\")(z)\n",
    "    z = Dense(N_CLASSES, activation=\"softmax\")(z)\n",
    "    model = Model(inputs=inputs, outputs=z)\n",
    "    \n",
    "    return model"
   ]
  },
  {
   "cell_type": "code",
   "execution_count": 22,
   "metadata": {},
   "outputs": [
    {
     "name": "stdout",
     "output_type": "stream",
     "text": [
      "Model: \"model_1\"\n",
      "__________________________________________________________________________________________________\n",
      "Layer (type)                    Output Shape         Param #     Connected to                     \n",
      "==================================================================================================\n",
      "inputs (InputLayer)             (None, 50)           0                                            \n",
      "__________________________________________________________________________________________________\n",
      "embedding (Embedding)           (None, 50, 300)      2961900     inputs[0][0]                     \n",
      "__________________________________________________________________________________________________\n",
      "dropout_1 (Dropout)             (None, 50, 300)      0           embedding[0][0]                  \n",
      "__________________________________________________________________________________________________\n",
      "conv1d_1 (Conv1D)               (None, 48, 100)      90100       dropout_1[0][0]                  \n",
      "__________________________________________________________________________________________________\n",
      "conv1d_2 (Conv1D)               (None, 47, 100)      120100      dropout_1[0][0]                  \n",
      "__________________________________________________________________________________________________\n",
      "conv1d_3 (Conv1D)               (None, 46, 100)      150100      dropout_1[0][0]                  \n",
      "__________________________________________________________________________________________________\n",
      "max_pooling1d_1 (MaxPooling1D)  (None, 24, 100)      0           conv1d_1[0][0]                   \n",
      "__________________________________________________________________________________________________\n",
      "max_pooling1d_2 (MaxPooling1D)  (None, 23, 100)      0           conv1d_2[0][0]                   \n",
      "__________________________________________________________________________________________________\n",
      "max_pooling1d_3 (MaxPooling1D)  (None, 23, 100)      0           conv1d_3[0][0]                   \n",
      "__________________________________________________________________________________________________\n",
      "flatten_1 (Flatten)             (None, 2400)         0           max_pooling1d_1[0][0]            \n",
      "__________________________________________________________________________________________________\n",
      "flatten_2 (Flatten)             (None, 2300)         0           max_pooling1d_2[0][0]            \n",
      "__________________________________________________________________________________________________\n",
      "flatten_3 (Flatten)             (None, 2300)         0           max_pooling1d_3[0][0]            \n",
      "__________________________________________________________________________________________________\n",
      "concatenate_1 (Concatenate)     (None, 7000)         0           flatten_1[0][0]                  \n",
      "                                                                 flatten_2[0][0]                  \n",
      "                                                                 flatten_3[0][0]                  \n",
      "__________________________________________________________________________________________________\n",
      "dropout_2 (Dropout)             (None, 7000)         0           concatenate_1[0][0]              \n",
      "__________________________________________________________________________________________________\n",
      "dense_1 (Dense)                 (None, 100)          700100      dropout_2[0][0]                  \n",
      "__________________________________________________________________________________________________\n",
      "dense_2 (Dense)                 (None, 2)            202         dense_1[0][0]                    \n",
      "==================================================================================================\n",
      "Total params: 4,022,502\n",
      "Trainable params: 1,060,602\n",
      "Non-trainable params: 2,961,900\n",
      "__________________________________________________________________________________________________\n"
     ]
    }
   ],
   "source": [
    "model = textcnn()\n",
    "model.summary()\n",
    "model.compile(loss='binary_crossentropy', optimizer='adam', metrics=['acc'])"
   ]
  },
  {
   "cell_type": "code",
   "execution_count": 24,
   "metadata": {},
   "outputs": [
    {
     "name": "stdout",
     "output_type": "stream",
     "text": [
      "Train on 8800 samples, validate on 2200 samples\n",
      "Epoch 1/25\n",
      "8800/8800 [==============================] - 9s 1ms/step - loss: 0.6940 - acc: 0.5339 - val_loss: 0.6829 - val_acc: 0.5614\n",
      "Epoch 2/25\n",
      "8800/8800 [==============================] - 9s 1ms/step - loss: 0.6537 - acc: 0.6181 - val_loss: 0.6048 - val_acc: 0.6691\n",
      "Epoch 3/25\n",
      "8800/8800 [==============================] - 9s 1ms/step - loss: 0.6126 - acc: 0.6622 - val_loss: 0.5857 - val_acc: 0.6973\n",
      "Epoch 4/25\n",
      "8800/8800 [==============================] - 9s 1ms/step - loss: 0.5904 - acc: 0.6816 - val_loss: 0.5710 - val_acc: 0.7109\n",
      "Epoch 5/25\n",
      "8800/8800 [==============================] - 9s 1ms/step - loss: 0.5740 - acc: 0.6973 - val_loss: 0.5590 - val_acc: 0.7105\n",
      "Epoch 6/25\n",
      "8800/8800 [==============================] - 9s 1ms/step - loss: 0.5618 - acc: 0.7058 - val_loss: 0.5525 - val_acc: 0.7155\n",
      "Epoch 7/25\n",
      "8800/8800 [==============================] - 9s 1ms/step - loss: 0.5455 - acc: 0.7214 - val_loss: 0.5967 - val_acc: 0.6591\n",
      "Epoch 8/25\n",
      "8800/8800 [==============================] - 9s 1ms/step - loss: 0.5241 - acc: 0.7360 - val_loss: 0.5516 - val_acc: 0.7095\n",
      "Epoch 9/25\n",
      "8800/8800 [==============================] - 9s 1ms/step - loss: 0.5091 - acc: 0.7494 - val_loss: 0.5514 - val_acc: 0.7077\n",
      "Epoch 10/25\n",
      "8800/8800 [==============================] - 9s 1ms/step - loss: 0.4944 - acc: 0.7564 - val_loss: 0.5418 - val_acc: 0.7195\n",
      "Epoch 11/25\n",
      "8800/8800 [==============================] - 9s 1ms/step - loss: 0.4822 - acc: 0.7643 - val_loss: 0.5387 - val_acc: 0.7195\n",
      "Epoch 12/25\n",
      "8800/8800 [==============================] - 9s 1ms/step - loss: 0.4735 - acc: 0.7717 - val_loss: 0.5861 - val_acc: 0.6809\n",
      "Epoch 13/25\n",
      "8800/8800 [==============================] - 9s 1ms/step - loss: 0.4629 - acc: 0.7702 - val_loss: 0.5398 - val_acc: 0.7241\n",
      "Epoch 14/25\n",
      "8800/8800 [==============================] - 9s 1ms/step - loss: 0.4542 - acc: 0.7848 - val_loss: 0.5523 - val_acc: 0.7155\n",
      "Epoch 15/25\n",
      "8800/8800 [==============================] - 9s 1ms/step - loss: 0.4369 - acc: 0.7883 - val_loss: 0.5429 - val_acc: 0.7168\n",
      "Epoch 16/25\n",
      "8800/8800 [==============================] - 9s 1ms/step - loss: 0.4290 - acc: 0.7992 - val_loss: 0.5463 - val_acc: 0.7141\n",
      "Epoch 17/25\n",
      "8800/8800 [==============================] - 10s 1ms/step - loss: 0.4117 - acc: 0.8053 - val_loss: 0.5521 - val_acc: 0.7114\n",
      "Epoch 18/25\n",
      "8800/8800 [==============================] - 9s 1ms/step - loss: 0.3992 - acc: 0.8180 - val_loss: 0.5375 - val_acc: 0.7268\n",
      "Epoch 19/25\n",
      "8800/8800 [==============================] - 9s 1ms/step - loss: 0.3930 - acc: 0.8177 - val_loss: 0.5450 - val_acc: 0.7241\n",
      "Epoch 20/25\n",
      "8800/8800 [==============================] - 9s 1ms/step - loss: 0.3734 - acc: 0.8251 - val_loss: 0.5403 - val_acc: 0.7223\n",
      "Epoch 21/25\n",
      "8800/8800 [==============================] - 10s 1ms/step - loss: 0.3709 - acc: 0.8364 - val_loss: 0.5554 - val_acc: 0.7168\n",
      "Epoch 22/25\n",
      "8800/8800 [==============================] - 10s 1ms/step - loss: 0.3534 - acc: 0.8385 - val_loss: 0.5462 - val_acc: 0.7205\n",
      "Epoch 23/25\n",
      "8800/8800 [==============================] - 9s 1ms/step - loss: 0.3526 - acc: 0.8423 - val_loss: 0.5471 - val_acc: 0.7114\n",
      "Epoch 24/25\n",
      "8800/8800 [==============================] - 9s 1ms/step - loss: 0.3400 - acc: 0.8455 - val_loss: 0.5498 - val_acc: 0.7136\n",
      "Epoch 25/25\n",
      "8800/8800 [==============================] - 9s 1ms/step - loss: 0.3326 - acc: 0.8519 - val_loss: 0.6324 - val_acc: 0.6809\n"
     ]
    }
   ],
   "source": [
    "history = model.fit(x_train, y_train, validation_data=(x_val,y_val), \n",
    "          epochs=num_epochs, batch_size=batch_size)"
   ]
  },
  {
   "cell_type": "markdown",
   "metadata": {},
   "source": [
    "- 25 epoch: acc: 0.8455 - val_loss: 0.5498 - val_acc: 0.7136 <font color='red'>(paper param)</font>\n",
    "25突然變好爛，偷偷取24epoch的，看來要lr decay了"
   ]
  },
  {
   "cell_type": "markdown",
   "metadata": {},
   "source": [
    "ploting reference :https://stackoverflow.com/questions/41908379/keras-plot-training-validation-and-test-set-accuracy"
   ]
  },
  {
   "cell_type": "code",
   "execution_count": 25,
   "metadata": {},
   "outputs": [
    {
     "name": "stdout",
     "output_type": "stream",
     "text": [
      "dict_keys(['val_loss', 'val_acc', 'loss', 'acc'])\n"
     ]
    },
    {
     "data": {
      "image/png": "[encoded data removed]",
      "text/plain": [
       "<Figure size 360x216 with 1 Axes>"
      ]
     },
     "metadata": {
      "needs_background": "light"
     },
     "output_type": "display_data"
    },
    {
     "data": {
      "image/png": "[encoded data removed]",
      "text/plain": [
       "<Figure size 360x216 with 1 Axes>"
      ]
     },
     "metadata": {
      "needs_background": "light"
     },
     "output_type": "display_data"
    }
   ],
   "source": [
    "print(history.history.keys())\n",
    "#  \"Accuracy\"\n",
    "plt.figure(figsize=(5,3))\n",
    "plt.plot(history.history['acc'])\n",
    "plt.plot(history.history['val_acc'])\n",
    "plt.title('model accuracy')\n",
    "plt.ylabel('accuracy')\n",
    "plt.xlabel('epoch')\n",
    "plt.legend(['train', 'validation'], loc='upper left')\n",
    "plt.show()\n",
    "# \"Loss\"\n",
    "plt.figure(figsize=(5,3))\n",
    "plt.plot(history.history['loss'])\n",
    "plt.plot(history.history['val_loss'])\n",
    "plt.title('model loss')\n",
    "plt.ylabel('loss')\n",
    "plt.xlabel('epoch')\n",
    "plt.legend(['train', 'validation'], loc='upper left')\n",
    "plt.show()"
   ]
  },
  {
   "cell_type": "markdown",
   "metadata": {},
   "source": [
    "### make submission\n",
    "must convert probability predictions into categories (class label) first  \n",
    "code reference: [Get class labels from Keras functional model](https://stackoverflow.com/questions/38971293/get-class-labels-from-keras-functional-model)"
   ]
  },
  {
   "cell_type": "code",
   "execution_count": 26,
   "metadata": {},
   "outputs": [
    {
     "name": "stdout",
     "output_type": "stream",
     "text": [
      "[[0.3108563  0.68914366]\n",
      " [0.14178625 0.8582138 ]\n",
      " [0.33818075 0.6618193 ]\n",
      " [0.70044404 0.29955602]\n",
      " [0.36584097 0.63415897]]\n",
      "(2000, 2)\n"
     ]
    }
   ],
   "source": [
    "output_test = model.predict(x_test)\n",
    "print(output_test[:5])\n",
    "print(output_test.shape)"
   ]
  },
  {
   "cell_type": "code",
   "execution_count": 27,
   "metadata": {},
   "outputs": [
    {
     "data": {
      "text/plain": [
       "1"
      ]
     },
     "execution_count": 27,
     "metadata": {},
     "output_type": "execute_result"
    }
   ],
   "source": [
    "y_classes = output_test[0].argmax(axis=-1)\n",
    "y_classes"
   ]
  },
  {
   "cell_type": "code",
   "execution_count": 28,
   "metadata": {},
   "outputs": [
    {
     "data": {
      "text/html": [
       "<div>\n",
       "<style scoped>\n",
       "    .dataframe tbody tr th:only-of-type {\n",
       "        vertical-align: middle;\n",
       "    }\n",
       "\n",
       "    .dataframe tbody tr th {\n",
       "        vertical-align: top;\n",
       "    }\n",
       "\n",
       "    .dataframe thead th {\n",
       "        text-align: right;\n",
       "    }\n",
       "</style>\n",
       "<table border=\"1\" class=\"dataframe\">\n",
       "  <thead>\n",
       "    <tr style=\"text-align: right;\">\n",
       "      <th></th>\n",
       "      <th>row_id</th>\n",
       "      <th>LABEL</th>\n",
       "    </tr>\n",
       "  </thead>\n",
       "  <tbody>\n",
       "    <tr>\n",
       "      <th>0</th>\n",
       "      <td>0</td>\n",
       "      <td>1</td>\n",
       "    </tr>\n",
       "    <tr>\n",
       "      <th>1</th>\n",
       "      <td>1</td>\n",
       "      <td>1</td>\n",
       "    </tr>\n",
       "    <tr>\n",
       "      <th>2</th>\n",
       "      <td>2</td>\n",
       "      <td>1</td>\n",
       "    </tr>\n",
       "  </tbody>\n",
       "</table>\n",
       "</div>"
      ],
      "text/plain": [
       "   row_id  LABEL\n",
       "0       0      1\n",
       "1       1      1\n",
       "2       2      1"
      ]
     },
     "execution_count": 28,
     "metadata": {},
     "output_type": "execute_result"
    }
   ],
   "source": [
    "submission = {\n",
    "    'row_id': list(range(0,len(output_test))),\n",
    "    'LABEL': [x.argmax(axis=-1) for x in output_test]\n",
    "}\n",
    "submission = pd.DataFrame.from_dict(submission)\n",
    "submission.head(3)"
   ]
  },
  {
   "cell_type": "code",
   "execution_count": 29,
   "metadata": {},
   "outputs": [
    {
     "data": {
      "text/plain": [
       "1    1209\n",
       "0     791\n",
       "Name: LABEL, dtype: int64"
      ]
     },
     "execution_count": 29,
     "metadata": {},
     "output_type": "execute_result"
    }
   ],
   "source": [
    "submission['LABEL'].value_counts()"
   ]
  },
  {
   "cell_type": "code",
   "execution_count": 23,
   "metadata": {},
   "outputs": [],
   "source": [
    "# submission.to_csv('submission/sub_texcnn word2vec.csv', index=False)"
   ]
  },
  {
   "cell_type": "code",
   "execution_count": null,
   "metadata": {},
   "outputs": [],
   "source": []
  }
 ],
 "metadata": {
  "kernelspec": {
   "display_name": "Python 3",
   "language": "python",
   "name": "python3"
  },
  "language_info": {
   "codemirror_mode": {
    "name": "ipython",
    "version": 3
   },
   "file_extension": ".py",
   "mimetype": "text/x-python",
   "name": "python",
   "nbconvert_exporter": "python",
   "pygments_lexer": "ipython3",
   "version": "3.7.7"
  }
 },
 "nbformat": 4,
 "nbformat_minor": 4
}
