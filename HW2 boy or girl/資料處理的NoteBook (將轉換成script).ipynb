{
 "cells": [
  {
   "cell_type": "code",
   "execution_count": 1,
   "metadata": {},
   "outputs": [],
   "source": [
    "import pandas as pd\n",
    "import numpy as np\n",
    "pd.set_option('display.float_format',lambda x : '%.2f' % x) # 禁用科學記號"
   ]
  },
  {
   "cell_type": "code",
   "execution_count": 2,
   "metadata": {},
   "outputs": [
    {
     "data": {
      "text/html": [
       "<div>\n",
       "<style scoped>\n",
       "    .dataframe tbody tr th:only-of-type {\n",
       "        vertical-align: middle;\n",
       "    }\n",
       "\n",
       "    .dataframe tbody tr th {\n",
       "        vertical-align: top;\n",
       "    }\n",
       "\n",
       "    .dataframe thead th {\n",
       "        text-align: right;\n",
       "    }\n",
       "</style>\n",
       "<table border=\"1\" class=\"dataframe\">\n",
       "  <thead>\n",
       "    <tr style=\"text-align: right;\">\n",
       "      <th></th>\n",
       "      <th>index</th>\n",
       "      <th>Timestamp</th>\n",
       "      <th>gender</th>\n",
       "      <th>star_sign</th>\n",
       "      <th>phone_os</th>\n",
       "      <th>height</th>\n",
       "      <th>weight</th>\n",
       "      <th>sleepiness</th>\n",
       "      <th>iq</th>\n",
       "      <th>fb_friends</th>\n",
       "      <th>yt</th>\n",
       "      <th>self_intro</th>\n",
       "    </tr>\n",
       "  </thead>\n",
       "  <tbody>\n",
       "    <tr>\n",
       "      <td>0</td>\n",
       "      <td>0</td>\n",
       "      <td>2017-07-04 13:47:57.495</td>\n",
       "      <td>2.00</td>\n",
       "      <td>處女座</td>\n",
       "      <td>Apple</td>\n",
       "      <td>154.00</td>\n",
       "      <td>43.00</td>\n",
       "      <td>2.00</td>\n",
       "      <td>180.00</td>\n",
       "      <td>583.00</td>\n",
       "      <td>0</td>\n",
       "      <td>Beautiful</td>\n",
       "    </tr>\n",
       "    <tr>\n",
       "      <td>1</td>\n",
       "      <td>1</td>\n",
       "      <td>2017-07-04 13:48:25.645</td>\n",
       "      <td>2.00</td>\n",
       "      <td>處女座</td>\n",
       "      <td>Apple</td>\n",
       "      <td>156.00</td>\n",
       "      <td>47.00</td>\n",
       "      <td>2.00</td>\n",
       "      <td>130.00</td>\n",
       "      <td>400.00</td>\n",
       "      <td>3.5</td>\n",
       "      <td>Enjoying being who I'm not</td>\n",
       "    </tr>\n",
       "    <tr>\n",
       "      <td>2</td>\n",
       "      <td>2</td>\n",
       "      <td>2017-07-04 13:49:15.348</td>\n",
       "      <td>1.00</td>\n",
       "      <td>射手座</td>\n",
       "      <td>Android</td>\n",
       "      <td>170.00</td>\n",
       "      <td>61.00</td>\n",
       "      <td>3.00</td>\n",
       "      <td>90.00</td>\n",
       "      <td>540.00</td>\n",
       "      <td>5</td>\n",
       "      <td>Practice Makes perfect</td>\n",
       "    </tr>\n",
       "    <tr>\n",
       "      <td>3</td>\n",
       "      <td>3</td>\n",
       "      <td>2017-07-04 13:49:15.792</td>\n",
       "      <td>1.00</td>\n",
       "      <td>射手座</td>\n",
       "      <td>Apple</td>\n",
       "      <td>170.00</td>\n",
       "      <td>62.00</td>\n",
       "      <td>4.00</td>\n",
       "      <td>100.00</td>\n",
       "      <td>173.00</td>\n",
       "      <td>5</td>\n",
       "      <td>Straightforward</td>\n",
       "    </tr>\n",
       "    <tr>\n",
       "      <td>4</td>\n",
       "      <td>4</td>\n",
       "      <td>2017-07-04 13:54:39.330</td>\n",
       "      <td>2.00</td>\n",
       "      <td>射手座</td>\n",
       "      <td>Android</td>\n",
       "      <td>158.00</td>\n",
       "      <td>67.00</td>\n",
       "      <td>3.00</td>\n",
       "      <td>128.00</td>\n",
       "      <td>320.00</td>\n",
       "      <td>1.2</td>\n",
       "      <td>Humorous</td>\n",
       "    </tr>\n",
       "  </tbody>\n",
       "</table>\n",
       "</div>"
      ],
      "text/plain": [
       "   index                Timestamp  gender star_sign phone_os  height  weight  \\\n",
       "0      0  2017-07-04 13:47:57.495    2.00       處女座    Apple  154.00   43.00   \n",
       "1      1  2017-07-04 13:48:25.645    2.00       處女座    Apple  156.00   47.00   \n",
       "2      2  2017-07-04 13:49:15.348    1.00       射手座  Android  170.00   61.00   \n",
       "3      3  2017-07-04 13:49:15.792    1.00       射手座    Apple  170.00   62.00   \n",
       "4      4  2017-07-04 13:54:39.330    2.00       射手座  Android  158.00   67.00   \n",
       "\n",
       "   sleepiness     iq  fb_friends   yt                  self_intro  \n",
       "0        2.00 180.00      583.00    0                  Beautiful   \n",
       "1        2.00 130.00      400.00  3.5  Enjoying being who I'm not  \n",
       "2        3.00  90.00      540.00    5     Practice Makes perfect   \n",
       "3        4.00 100.00      173.00    5            Straightforward   \n",
       "4        3.00 128.00      320.00  1.2                   Humorous   "
      ]
     },
     "execution_count": 2,
     "metadata": {},
     "output_type": "execute_result"
    }
   ],
   "source": [
    "df = pd.read_csv(\"Boy_or_girl_train.csv\")\n",
    "origin_df = df\n",
    "df.head()"
   ]
  },
  {
   "cell_type": "code",
   "execution_count": 3,
   "metadata": {},
   "outputs": [],
   "source": [
    "def dropIndexAndTimestamp(df):\n",
    "    if {'index', 'Timestamp'}.issubset(df.columns):\n",
    "        df.drop(['index', 'Timestamp'], axis=1, inplace=True)\n",
    "    return df"
   ]
  },
  {
   "cell_type": "code",
   "execution_count": 4,
   "metadata": {},
   "outputs": [],
   "source": [
    "def nominalLabelEncode(df):\n",
    "    # lowercase string\n",
    "    df['phone_os'] = df['phone_os'].str.lower()\n",
    "    # removing leading and trailing whitespaces\n",
    "    df['phone_os'] = df['phone_os'].str.strip()\n",
    "\n",
    "    coded_star_signs = {'水瓶座':1, '雙魚座':2, '牡羊座':3, '金牛座':4, '雙子座':5, '巨蟹座':6, '獅子座':7, '處女座':8, '天秤座':9, '天蠍座':10, '射手座':11, '摩羯座':12}\n",
    "    coded_phone_os = {'apple':1, 'android':2, 'windows phone':3, 'johncena':4}\n",
    "\n",
    "    df = df.replace({\"star_sign\": coded_star_signs})\n",
    "    df = df.replace({\"phone_os\": coded_phone_os})\n",
    "    return df"
   ]
  },
  {
   "cell_type": "code",
   "execution_count": 5,
   "metadata": {},
   "outputs": [],
   "source": [
    "def selfIntroEncode(df):\n",
    "    df['new_self_intro'] = df['self_intro'].apply(lambda x: 1 if 'andsome' in str(x) else 0)\n",
    "    df.drop(['self_intro'], axis=1, inplace=True)\n",
    "    return df"
   ]
  },
  {
   "cell_type": "code",
   "execution_count": 6,
   "metadata": {},
   "outputs": [],
   "source": [
    "def scaleOutliers(df):\n",
    "    rule = [\n",
    "            {'column':'height', 'max':200, 'min':145, 'maxValue':None, 'minValue':None},\n",
    "            {'column':'weight', 'max':100, 'min':45, 'maxValue':None, 'minValue':None},\n",
    "            {'column':'fb_friends', 'max':2000, 'min':0, 'maxValue':2000, 'minValue':0},\n",
    "            {'column':'yt', 'max':20, 'min':0, 'maxValue':None, 'minValue':0, 'to_num':True},\n",
    "            {'column':'iq', 'max':200, 'min':0, 'maxValue':None, 'minValue':0, 'to_num':True}\n",
    "    ]\n",
    "\n",
    "    for r in rule:\n",
    "        if r.get('to_num')!=None:\n",
    "            df[r.get('column')] = pd.to_numeric(df[r.get('column')], errors='coerce')\n",
    "        if r.get('max')!=None:\n",
    "            indexRemove = df[df[r.get('column')]>r.get('max')].index\n",
    "            df.loc[indexRemove, r.get('column')] = r.get('maxValue')\n",
    "        if r.get('min')!=None:\n",
    "            indexRemove = df[df[r.get('column')]<r.get('min')].index\n",
    "            df.loc[indexRemove, r.get('column')] = r.get('minValue')\n",
    "            \n",
    "    for r in rule:\n",
    "        hasValue = df[df[r.get('column')].notna()].index\n",
    "        valueMean = df.loc[hasValue, r.get('column')].mean()\n",
    "        df[r.get('column')] = df[r.get('column')].fillna(valueMean)\n",
    "    return df"
   ]
  },
  {
   "cell_type": "code",
   "execution_count": 7,
   "metadata": {},
   "outputs": [],
   "source": [
    "def addBMI(df):\n",
    "    df['bmi'] = df['weight']/((df['height']/100) ** 2) # range from 11.25~95.125\n",
    "    return df"
   ]
  },
  {
   "cell_type": "code",
   "execution_count": 8,
   "metadata": {},
   "outputs": [],
   "source": [
    "def binning(df):\n",
    "    # Bucketing values into bins\n",
    "    # height\tweight\tiq\tfb_friends\tyt\n",
    "    # range(min-1, max+range+1, range) 為了涵蓋頭尾，max自成一類。\n",
    "    # min max值是copy上方rules的喔，記得兩邊一起改。\n",
    "    bins = {\n",
    "        'height': list(range(145-1, 200+5+1, 5)), #12 bins\n",
    "        'weight': list(range(45-1, 100+5+1, 5)), #12 bins\n",
    "        'iq':     list(range(0-1, 200+20+1, 20)), #10 bins\n",
    "        'fb_friends': list(range(0-1, 2000+200+1, 200)), #10 bins\n",
    "        'yt':     [-0.1, 0.5 ,1.0, 2.0, 4.0, 10.0, 20.0], # 6 bins\n",
    "        'bmi':    list(range(12-1, 36+2+1, 2)), #13+1 bins\n",
    "    }\n",
    "    bins['bmi'].append(96) # 應付極端值 自成一類\n",
    "    for key in bins.keys():\n",
    "        df[key] = pd.cut(df[key], bins[key], labels=False)\n",
    "    return df"
   ]
  },
  {
   "cell_type": "markdown",
   "metadata": {},
   "source": [
    "### My script"
   ]
  },
  {
   "cell_type": "code",
   "execution_count": 9,
   "metadata": {},
   "outputs": [
    {
     "data": {
      "text/html": [
       "<div>\n",
       "<style scoped>\n",
       "    .dataframe tbody tr th:only-of-type {\n",
       "        vertical-align: middle;\n",
       "    }\n",
       "\n",
       "    .dataframe tbody tr th {\n",
       "        vertical-align: top;\n",
       "    }\n",
       "\n",
       "    .dataframe thead th {\n",
       "        text-align: right;\n",
       "    }\n",
       "</style>\n",
       "<table border=\"1\" class=\"dataframe\">\n",
       "  <thead>\n",
       "    <tr style=\"text-align: right;\">\n",
       "      <th></th>\n",
       "      <th>index</th>\n",
       "      <th>Timestamp</th>\n",
       "      <th>gender</th>\n",
       "      <th>star_sign</th>\n",
       "      <th>phone_os</th>\n",
       "      <th>height</th>\n",
       "      <th>weight</th>\n",
       "      <th>sleepiness</th>\n",
       "      <th>iq</th>\n",
       "      <th>fb_friends</th>\n",
       "      <th>yt</th>\n",
       "      <th>self_intro</th>\n",
       "    </tr>\n",
       "  </thead>\n",
       "  <tbody>\n",
       "    <tr>\n",
       "      <td>0</td>\n",
       "      <td>0</td>\n",
       "      <td>2017-07-04 13:47:57.495</td>\n",
       "      <td>2.00</td>\n",
       "      <td>處女座</td>\n",
       "      <td>Apple</td>\n",
       "      <td>154.00</td>\n",
       "      <td>43.00</td>\n",
       "      <td>2.00</td>\n",
       "      <td>180.00</td>\n",
       "      <td>583.00</td>\n",
       "      <td>0</td>\n",
       "      <td>Beautiful</td>\n",
       "    </tr>\n",
       "    <tr>\n",
       "      <td>1</td>\n",
       "      <td>1</td>\n",
       "      <td>2017-07-04 13:48:25.645</td>\n",
       "      <td>2.00</td>\n",
       "      <td>處女座</td>\n",
       "      <td>Apple</td>\n",
       "      <td>156.00</td>\n",
       "      <td>47.00</td>\n",
       "      <td>2.00</td>\n",
       "      <td>130.00</td>\n",
       "      <td>400.00</td>\n",
       "      <td>3.5</td>\n",
       "      <td>Enjoying being who I'm not</td>\n",
       "    </tr>\n",
       "    <tr>\n",
       "      <td>2</td>\n",
       "      <td>2</td>\n",
       "      <td>2017-07-04 13:49:15.348</td>\n",
       "      <td>1.00</td>\n",
       "      <td>射手座</td>\n",
       "      <td>Android</td>\n",
       "      <td>170.00</td>\n",
       "      <td>61.00</td>\n",
       "      <td>3.00</td>\n",
       "      <td>90.00</td>\n",
       "      <td>540.00</td>\n",
       "      <td>5</td>\n",
       "      <td>Practice Makes perfect</td>\n",
       "    </tr>\n",
       "    <tr>\n",
       "      <td>3</td>\n",
       "      <td>3</td>\n",
       "      <td>2017-07-04 13:49:15.792</td>\n",
       "      <td>1.00</td>\n",
       "      <td>射手座</td>\n",
       "      <td>Apple</td>\n",
       "      <td>170.00</td>\n",
       "      <td>62.00</td>\n",
       "      <td>4.00</td>\n",
       "      <td>100.00</td>\n",
       "      <td>173.00</td>\n",
       "      <td>5</td>\n",
       "      <td>Straightforward</td>\n",
       "    </tr>\n",
       "    <tr>\n",
       "      <td>4</td>\n",
       "      <td>4</td>\n",
       "      <td>2017-07-04 13:54:39.330</td>\n",
       "      <td>2.00</td>\n",
       "      <td>射手座</td>\n",
       "      <td>Android</td>\n",
       "      <td>158.00</td>\n",
       "      <td>67.00</td>\n",
       "      <td>3.00</td>\n",
       "      <td>128.00</td>\n",
       "      <td>320.00</td>\n",
       "      <td>1.2</td>\n",
       "      <td>Humorous</td>\n",
       "    </tr>\n",
       "  </tbody>\n",
       "</table>\n",
       "</div>"
      ],
      "text/plain": [
       "   index                Timestamp  gender star_sign phone_os  height  weight  \\\n",
       "0      0  2017-07-04 13:47:57.495    2.00       處女座    Apple  154.00   43.00   \n",
       "1      1  2017-07-04 13:48:25.645    2.00       處女座    Apple  156.00   47.00   \n",
       "2      2  2017-07-04 13:49:15.348    1.00       射手座  Android  170.00   61.00   \n",
       "3      3  2017-07-04 13:49:15.792    1.00       射手座    Apple  170.00   62.00   \n",
       "4      4  2017-07-04 13:54:39.330    2.00       射手座  Android  158.00   67.00   \n",
       "\n",
       "   sleepiness     iq  fb_friends   yt                  self_intro  \n",
       "0        2.00 180.00      583.00    0                  Beautiful   \n",
       "1        2.00 130.00      400.00  3.5  Enjoying being who I'm not  \n",
       "2        3.00  90.00      540.00    5     Practice Makes perfect   \n",
       "3        4.00 100.00      173.00    5            Straightforward   \n",
       "4        3.00 128.00      320.00  1.2                   Humorous   "
      ]
     },
     "execution_count": 9,
     "metadata": {},
     "output_type": "execute_result"
    }
   ],
   "source": [
    "df = pd.read_csv(\"Boy_or_girl_train.csv\")\n",
    "df.head()"
   ]
  },
  {
   "cell_type": "code",
   "execution_count": 10,
   "metadata": {},
   "outputs": [],
   "source": [
    "def preprocess(df):\n",
    "    df = dropIndexAndTimestamp(df)\n",
    "    df.dropna(axis=0, how=\"all\", inplace=True)\n",
    "    df = nominalLabelEncode(df)\n",
    "    df = selfIntroEncode(df)\n",
    "    df = scaleOutliers(df)\n",
    "    df = addBMI(df)\n",
    "    df = binning(df)\n",
    "    return df"
   ]
  },
  {
   "cell_type": "code",
   "execution_count": 11,
   "metadata": {},
   "outputs": [
    {
     "data": {
      "text/html": [
       "<div>\n",
       "<style scoped>\n",
       "    .dataframe tbody tr th:only-of-type {\n",
       "        vertical-align: middle;\n",
       "    }\n",
       "\n",
       "    .dataframe tbody tr th {\n",
       "        vertical-align: top;\n",
       "    }\n",
       "\n",
       "    .dataframe thead th {\n",
       "        text-align: right;\n",
       "    }\n",
       "</style>\n",
       "<table border=\"1\" class=\"dataframe\">\n",
       "  <thead>\n",
       "    <tr style=\"text-align: right;\">\n",
       "      <th></th>\n",
       "      <th>gender</th>\n",
       "      <th>star_sign</th>\n",
       "      <th>phone_os</th>\n",
       "      <th>height</th>\n",
       "      <th>weight</th>\n",
       "      <th>sleepiness</th>\n",
       "      <th>iq</th>\n",
       "      <th>fb_friends</th>\n",
       "      <th>yt</th>\n",
       "      <th>new_self_intro</th>\n",
       "      <th>bmi</th>\n",
       "    </tr>\n",
       "  </thead>\n",
       "  <tbody>\n",
       "    <tr>\n",
       "      <td>0</td>\n",
       "      <td>2.00</td>\n",
       "      <td>8</td>\n",
       "      <td>1</td>\n",
       "      <td>1</td>\n",
       "      <td>4</td>\n",
       "      <td>2.00</td>\n",
       "      <td>9</td>\n",
       "      <td>2</td>\n",
       "      <td>0</td>\n",
       "      <td>0</td>\n",
       "      <td>8</td>\n",
       "    </tr>\n",
       "    <tr>\n",
       "      <td>1</td>\n",
       "      <td>2.00</td>\n",
       "      <td>8</td>\n",
       "      <td>1</td>\n",
       "      <td>2</td>\n",
       "      <td>0</td>\n",
       "      <td>2.00</td>\n",
       "      <td>6</td>\n",
       "      <td>2</td>\n",
       "      <td>3</td>\n",
       "      <td>0</td>\n",
       "      <td>4</td>\n",
       "    </tr>\n",
       "    <tr>\n",
       "      <td>2</td>\n",
       "      <td>1.00</td>\n",
       "      <td>11</td>\n",
       "      <td>2</td>\n",
       "      <td>5</td>\n",
       "      <td>3</td>\n",
       "      <td>3.00</td>\n",
       "      <td>4</td>\n",
       "      <td>2</td>\n",
       "      <td>4</td>\n",
       "      <td>0</td>\n",
       "      <td>5</td>\n",
       "    </tr>\n",
       "    <tr>\n",
       "      <td>3</td>\n",
       "      <td>1.00</td>\n",
       "      <td>11</td>\n",
       "      <td>1</td>\n",
       "      <td>5</td>\n",
       "      <td>3</td>\n",
       "      <td>4.00</td>\n",
       "      <td>5</td>\n",
       "      <td>0</td>\n",
       "      <td>4</td>\n",
       "      <td>0</td>\n",
       "      <td>5</td>\n",
       "    </tr>\n",
       "    <tr>\n",
       "      <td>4</td>\n",
       "      <td>2.00</td>\n",
       "      <td>11</td>\n",
       "      <td>2</td>\n",
       "      <td>2</td>\n",
       "      <td>4</td>\n",
       "      <td>3.00</td>\n",
       "      <td>6</td>\n",
       "      <td>1</td>\n",
       "      <td>2</td>\n",
       "      <td>0</td>\n",
       "      <td>7</td>\n",
       "    </tr>\n",
       "    <tr>\n",
       "      <td>...</td>\n",
       "      <td>...</td>\n",
       "      <td>...</td>\n",
       "      <td>...</td>\n",
       "      <td>...</td>\n",
       "      <td>...</td>\n",
       "      <td>...</td>\n",
       "      <td>...</td>\n",
       "      <td>...</td>\n",
       "      <td>...</td>\n",
       "      <td>...</td>\n",
       "      <td>...</td>\n",
       "    </tr>\n",
       "    <tr>\n",
       "      <td>240</td>\n",
       "      <td>2.00</td>\n",
       "      <td>2</td>\n",
       "      <td>4</td>\n",
       "      <td>5</td>\n",
       "      <td>4</td>\n",
       "      <td>5.00</td>\n",
       "      <td>9</td>\n",
       "      <td>0</td>\n",
       "      <td>1</td>\n",
       "      <td>0</td>\n",
       "      <td>5</td>\n",
       "    </tr>\n",
       "    <tr>\n",
       "      <td>241</td>\n",
       "      <td>1.00</td>\n",
       "      <td>6</td>\n",
       "      <td>1</td>\n",
       "      <td>6</td>\n",
       "      <td>4</td>\n",
       "      <td>5.00</td>\n",
       "      <td>5</td>\n",
       "      <td>1</td>\n",
       "      <td>4</td>\n",
       "      <td>1</td>\n",
       "      <td>5</td>\n",
       "    </tr>\n",
       "    <tr>\n",
       "      <td>242</td>\n",
       "      <td>1.00</td>\n",
       "      <td>10</td>\n",
       "      <td>2</td>\n",
       "      <td>5</td>\n",
       "      <td>4</td>\n",
       "      <td>1.00</td>\n",
       "      <td>2</td>\n",
       "      <td>0</td>\n",
       "      <td>0</td>\n",
       "      <td>0</td>\n",
       "      <td>5</td>\n",
       "    </tr>\n",
       "    <tr>\n",
       "      <td>243</td>\n",
       "      <td>1.00</td>\n",
       "      <td>3</td>\n",
       "      <td>2</td>\n",
       "      <td>5</td>\n",
       "      <td>4</td>\n",
       "      <td>1.00</td>\n",
       "      <td>10</td>\n",
       "      <td>0</td>\n",
       "      <td>0</td>\n",
       "      <td>0</td>\n",
       "      <td>5</td>\n",
       "    </tr>\n",
       "    <tr>\n",
       "      <td>244</td>\n",
       "      <td>1.00</td>\n",
       "      <td>10</td>\n",
       "      <td>1</td>\n",
       "      <td>5</td>\n",
       "      <td>4</td>\n",
       "      <td>3.00</td>\n",
       "      <td>6</td>\n",
       "      <td>1</td>\n",
       "      <td>4</td>\n",
       "      <td>0</td>\n",
       "      <td>5</td>\n",
       "    </tr>\n",
       "  </tbody>\n",
       "</table>\n",
       "<p>244 rows × 11 columns</p>\n",
       "</div>"
      ],
      "text/plain": [
       "     gender  star_sign  phone_os  height  weight  sleepiness  iq  fb_friends  \\\n",
       "0      2.00          8         1       1       4        2.00   9           2   \n",
       "1      2.00          8         1       2       0        2.00   6           2   \n",
       "2      1.00         11         2       5       3        3.00   4           2   \n",
       "3      1.00         11         1       5       3        4.00   5           0   \n",
       "4      2.00         11         2       2       4        3.00   6           1   \n",
       "..      ...        ...       ...     ...     ...         ...  ..         ...   \n",
       "240    2.00          2         4       5       4        5.00   9           0   \n",
       "241    1.00          6         1       6       4        5.00   5           1   \n",
       "242    1.00         10         2       5       4        1.00   2           0   \n",
       "243    1.00          3         2       5       4        1.00  10           0   \n",
       "244    1.00         10         1       5       4        3.00   6           1   \n",
       "\n",
       "     yt  new_self_intro  bmi  \n",
       "0     0               0    8  \n",
       "1     3               0    4  \n",
       "2     4               0    5  \n",
       "3     4               0    5  \n",
       "4     2               0    7  \n",
       "..   ..             ...  ...  \n",
       "240   1               0    5  \n",
       "241   4               1    5  \n",
       "242   0               0    5  \n",
       "243   0               0    5  \n",
       "244   4               0    5  \n",
       "\n",
       "[244 rows x 11 columns]"
      ]
     },
     "execution_count": 11,
     "metadata": {},
     "output_type": "execute_result"
    }
   ],
   "source": [
    "df = preprocess(df)\n",
    "df"
   ]
  },
  {
   "cell_type": "markdown",
   "metadata": {},
   "source": [
    "檢查資料清理的如何? 怎麼還有null??"
   ]
  },
  {
   "cell_type": "code",
   "execution_count": 12,
   "metadata": {},
   "outputs": [
    {
     "data": {
      "text/plain": [
       "gender            0\n",
       "star_sign         0\n",
       "phone_os          0\n",
       "height            0\n",
       "weight            0\n",
       "sleepiness        0\n",
       "iq                0\n",
       "fb_friends        0\n",
       "yt                0\n",
       "new_self_intro    0\n",
       "bmi               0\n",
       "dtype: int64"
      ]
     },
     "execution_count": 12,
     "metadata": {},
     "output_type": "execute_result"
    }
   ],
   "source": [
    "df.isnull().sum()"
   ]
  },
  {
   "cell_type": "markdown",
   "metadata": {},
   "source": [
    "### Binning\n",
    "這裡是設計 bins 的 code，寫好才能貼到上面的 script。"
   ]
  },
  {
   "cell_type": "code",
   "execution_count": 13,
   "metadata": {},
   "outputs": [],
   "source": [
    "bins = {\n",
    "    'height': list(range(145-1, 200+5+1, 5)), #12 bins\n",
    "    'weight': list(range(45-1, 100+5+1, 5)), #12 bins\n",
    "    'iq':     list(range(0-1, 200+20+1, 20)), #10 bins\n",
    "    'fb_friends': list(range(0-1, 2000+200+1, 200)), #10 bins\n",
    "    'yt':     [-0.1, 0.5 ,1.0, 2.0, 4.0, 10.0, 20.0] # 6 bins\n",
    "}"
   ]
  },
  {
   "cell_type": "code",
   "execution_count": 14,
   "metadata": {},
   "outputs": [
    {
     "data": {
      "text/plain": [
       "[144, 149, 154, 159, 164, 169, 174, 179, 184, 189, 194, 199, 204]"
      ]
     },
     "execution_count": 14,
     "metadata": {},
     "output_type": "execute_result"
    }
   ],
   "source": [
    "bins['height']"
   ]
  },
  {
   "cell_type": "code",
   "execution_count": 15,
   "metadata": {},
   "outputs": [
    {
     "data": {
      "text/plain": [
       "0      0\n",
       "1      0\n",
       "2      0\n",
       "3      0\n",
       "4      0\n",
       "      ..\n",
       "240    0\n",
       "241    0\n",
       "242    0\n",
       "243    0\n",
       "244    0\n",
       "Name: fb_friends, Length: 244, dtype: int64"
      ]
     },
     "execution_count": 15,
     "metadata": {},
     "output_type": "execute_result"
    }
   ],
   "source": [
    "pd.cut(df['fb_friends'], bins['fb_friends'], labels=False)"
   ]
  },
  {
   "cell_type": "code",
   "execution_count": 16,
   "metadata": {},
   "outputs": [
    {
     "data": {
      "text/plain": [
       "dict_keys(['height', 'weight', 'iq', 'fb_friends', 'yt'])"
      ]
     },
     "execution_count": 16,
     "metadata": {},
     "output_type": "execute_result"
    }
   ],
   "source": [
    "bins.keys()"
   ]
  },
  {
   "cell_type": "code",
   "execution_count": 17,
   "metadata": {},
   "outputs": [
    {
     "name": "stdout",
     "output_type": "stream",
     "text": [
      "244\n",
      "244\n",
      "0\n",
      "0\n",
      "0\n"
     ]
    }
   ],
   "source": [
    "for key in bins.keys():\n",
    "    print(pd.cut(df[key], bins[key], labels=False).isnull().sum())"
   ]
  },
  {
   "cell_type": "markdown",
   "metadata": {},
   "source": [
    "testing"
   ]
  },
  {
   "cell_type": "code",
   "execution_count": 18,
   "metadata": {},
   "outputs": [
    {
     "name": "stdout",
     "output_type": "stream",
     "text": [
      "0      1\n",
      "1      2\n",
      "2      5\n",
      "3      5\n",
      "4      2\n",
      "      ..\n",
      "240    5\n",
      "241    6\n",
      "242    5\n",
      "243    5\n",
      "244    5\n",
      "Name: height, Length: 244, dtype: int64\n"
     ]
    }
   ],
   "source": [
    "# height\tweight\tiq\tfb_friends\tyt\n",
    "category = pd.cut(df['height'], 12, labels=False)\n",
    "print(category)"
   ]
  },
  {
   "cell_type": "code",
   "execution_count": 19,
   "metadata": {},
   "outputs": [
    {
     "data": {
      "text/plain": [
       "pandas.core.series.Series"
      ]
     },
     "execution_count": 19,
     "metadata": {},
     "output_type": "execute_result"
    }
   ],
   "source": [
    "type(category)"
   ]
  },
  {
   "cell_type": "code",
   "execution_count": 20,
   "metadata": {},
   "outputs": [
    {
     "data": {
      "text/plain": [
       "5     82\n",
       "4     41\n",
       "6     39\n",
       "7     29\n",
       "3     25\n",
       "2     15\n",
       "1      6\n",
       "8      4\n",
       "11     1\n",
       "9      1\n",
       "0      1\n",
       "Name: height, dtype: int64"
      ]
     },
     "execution_count": 20,
     "metadata": {},
     "output_type": "execute_result"
    }
   ],
   "source": [
    "category.value_counts()"
   ]
  },
  {
   "cell_type": "code",
   "execution_count": 21,
   "metadata": {},
   "outputs": [
    {
     "data": {
      "text/plain": [
       "11"
      ]
     },
     "execution_count": 21,
     "metadata": {},
     "output_type": "execute_result"
    }
   ],
   "source": [
    "df['height'].max()"
   ]
  },
  {
   "cell_type": "markdown",
   "metadata": {},
   "source": [
    "### Visualize\n",
    "先看看各類別的數量分布，調整好min max，再決定bins的間距。"
   ]
  },
  {
   "cell_type": "code",
   "execution_count": 22,
   "metadata": {},
   "outputs": [
    {
     "name": "stdout",
     "output_type": "stream",
     "text": [
      "5.00\n"
     ]
    }
   ],
   "source": [
    "print(\"{:.2f}\".format(df['yt'].max()))"
   ]
  },
  {
   "cell_type": "code",
   "execution_count": 23,
   "metadata": {},
   "outputs": [
    {
     "data": {
      "text/plain": [
       "0      1\n",
       "1      6\n",
       "2     15\n",
       "3     25\n",
       "4     41\n",
       "5     82\n",
       "6     39\n",
       "7     29\n",
       "8      4\n",
       "9      1\n",
       "11     1\n",
       "Name: height, dtype: int64"
      ]
     },
     "execution_count": 23,
     "metadata": {},
     "output_type": "execute_result"
    }
   ],
   "source": [
    "df['height'].value_counts().sort_index()"
   ]
  },
  {
   "cell_type": "code",
   "execution_count": 36,
   "metadata": {},
   "outputs": [
    {
     "data": {
      "text/plain": [
       "<matplotlib.axes._subplots.AxesSubplot at 0x16a59f99e08>"
      ]
     },
     "execution_count": 36,
     "metadata": {},
     "output_type": "execute_result"
    },
    {
     "data": {
      "image/png": "[encoded data removed]",
      "text/plain": [
       "<Figure size 432x288 with 1 Axes>"
      ]
     },
     "metadata": {
      "needs_background": "light"
     },
     "output_type": "display_data"
    }
   ],
   "source": [
    "df['height'].value_counts().sort_index().plot(kind='barh')"
   ]
  },
  {
   "cell_type": "code",
   "execution_count": 25,
   "metadata": {},
   "outputs": [
    {
     "data": {
      "text/plain": [
       "<matplotlib.axes._subplots.AxesSubplot at 0x16a5886e888>"
      ]
     },
     "execution_count": 25,
     "metadata": {},
     "output_type": "execute_result"
    },
    {
     "data": {
      "image/png": "[encoded data removed]",
      "text/plain": [
       "<Figure size 432x288 with 1 Axes>"
      ]
     },
     "metadata": {
      "needs_background": "light"
     },
     "output_type": "display_data"
    }
   ],
   "source": [
    "df['weight'].value_counts().sort_index().plot(kind='barh')"
   ]
  },
  {
   "cell_type": "code",
   "execution_count": 26,
   "metadata": {},
   "outputs": [
    {
     "data": {
      "text/plain": [
       "<matplotlib.axes._subplots.AxesSubplot at 0x16a58925ec8>"
      ]
     },
     "execution_count": 26,
     "metadata": {},
     "output_type": "execute_result"
    },
    {
     "data": {
      "image/png": "[encoded data removed]",
      "text/plain": [
       "<Figure size 432x288 with 1 Axes>"
      ]
     },
     "metadata": {
      "needs_background": "light"
     },
     "output_type": "display_data"
    }
   ],
   "source": [
    "df['iq'].value_counts().sort_index().plot(kind='barh')"
   ]
  },
  {
   "cell_type": "code",
   "execution_count": 27,
   "metadata": {},
   "outputs": [
    {
     "data": {
      "text/plain": [
       "<matplotlib.axes._subplots.AxesSubplot at 0x16a589c0988>"
      ]
     },
     "execution_count": 27,
     "metadata": {},
     "output_type": "execute_result"
    },
    {
     "data": {
      "image/png": "[encoded data removed]",
      "text/plain": [
       "<Figure size 432x288 with 1 Axes>"
      ]
     },
     "metadata": {
      "needs_background": "light"
     },
     "output_type": "display_data"
    }
   ],
   "source": [
    "df['fb_friends'].value_counts().sort_index().plot(kind='barh')"
   ]
  },
  {
   "cell_type": "code",
   "execution_count": 28,
   "metadata": {},
   "outputs": [
    {
     "data": {
      "text/plain": [
       "<matplotlib.axes._subplots.AxesSubplot at 0x16a58909888>"
      ]
     },
     "execution_count": 28,
     "metadata": {},
     "output_type": "execute_result"
    },
    {
     "data": {
      "image/png": "[encoded data removed]",
      "text/plain": [
       "<Figure size 432x288 with 1 Axes>"
      ]
     },
     "metadata": {
      "needs_background": "light"
     },
     "output_type": "display_data"
    }
   ],
   "source": [
    "df['yt'].value_counts().sort_index().plot(kind='barh')"
   ]
  },
  {
   "cell_type": "code",
   "execution_count": 29,
   "metadata": {},
   "outputs": [
    {
     "data": {
      "text/plain": [
       "0    57\n",
       "1    38\n",
       "2    24\n",
       "3    71\n",
       "4    39\n",
       "5    15\n",
       "Name: yt, dtype: int64"
      ]
     },
     "execution_count": 29,
     "metadata": {},
     "output_type": "execute_result"
    }
   ],
   "source": [
    "# yt=0要特別 bin\n",
    "df['yt'].value_counts().sort_index()"
   ]
  },
  {
   "cell_type": "code",
   "execution_count": 30,
   "metadata": {},
   "outputs": [
    {
     "data": {
      "text/plain": [
       "<matplotlib.axes._subplots.AxesSubplot at 0x16a58abe688>"
      ]
     },
     "execution_count": 30,
     "metadata": {},
     "output_type": "execute_result"
    },
    {
     "data": {
      "image/png": "[encoded data removed]",
      "text/plain": [
       "<Figure size 432x288 with 1 Axes>"
      ]
     },
     "metadata": {
      "needs_background": "light"
     },
     "output_type": "display_data"
    }
   ],
   "source": [
    "# 原本的yt\n",
    "origin_df['yt'].value_counts().sort_index().plot(kind='barh')"
   ]
  },
  {
   "cell_type": "code",
   "execution_count": 32,
   "metadata": {},
   "outputs": [
    {
     "data": {
      "text/plain": [
       "<matplotlib.axes._subplots.AxesSubplot at 0x16a58ca3408>"
      ]
     },
     "execution_count": 32,
     "metadata": {},
     "output_type": "execute_result"
    },
    {
     "data": {
      "image/png": "[encoded data removed]",
      "text/plain": [
       "<Figure size 432x288 with 1 Axes>"
      ]
     },
     "metadata": {
      "needs_background": "light"
     },
     "output_type": "display_data"
    }
   ],
   "source": [
    "# scale outlier後的yt\n",
    "scaleOutliers(origin_df)['yt'].value_counts().sort_index().plot(kind='barh')"
   ]
  },
  {
   "cell_type": "code",
   "execution_count": 33,
   "metadata": {},
   "outputs": [
    {
     "name": "stdout",
     "output_type": "stream",
     "text": [
      "2 12\n"
     ]
    }
   ],
   "source": [
    "print(df['bmi'].min(), df['bmi'].max())"
   ]
  },
  {
   "cell_type": "code",
   "execution_count": 34,
   "metadata": {},
   "outputs": [
    {
     "data": {
      "text/plain": [
       "<matplotlib.axes._subplots.AxesSubplot at 0x16a59f81e88>"
      ]
     },
     "execution_count": 34,
     "metadata": {},
     "output_type": "execute_result"
    },
    {
     "data": {
      "image/png": "[encoded data removed]",
      "text/plain": [
       "<Figure size 432x288 with 1 Axes>"
      ]
     },
     "metadata": {
      "needs_background": "light"
     },
     "output_type": "display_data"
    }
   ],
   "source": [
    "df['bmi'].value_counts().sort_index().plot(kind='barh')"
   ]
  },
  {
   "cell_type": "code",
   "execution_count": 35,
   "metadata": {},
   "outputs": [
    {
     "data": {
      "text/plain": [
       "1.00    187\n",
       "2.00     57\n",
       "Name: gender, dtype: int64"
      ]
     },
     "execution_count": 35,
     "metadata": {},
     "output_type": "execute_result"
    }
   ],
   "source": [
    "# boy:girl\n",
    "df['gender'].value_counts()"
   ]
  }
 ],
 "metadata": {
  "kernelspec": {
   "display_name": "Python 3",
   "language": "python",
   "name": "python3"
  },
  "language_info": {
   "codemirror_mode": {
    "name": "ipython",
    "version": 3
   },
   "file_extension": ".py",
   "mimetype": "text/x-python",
   "name": "python",
   "nbconvert_exporter": "python",
   "pygments_lexer": "ipython3",
   "version": "3.7.4"
  }
 },
 "nbformat": 4,
 "nbformat_minor": 2
}
